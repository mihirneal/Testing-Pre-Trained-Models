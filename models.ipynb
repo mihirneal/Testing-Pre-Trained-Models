{
 "cells": [
  {
   "cell_type": "code",
   "execution_count": 12,
   "metadata": {},
   "outputs": [],
   "source": [
    "import tensorflow_datasets as tfds\n",
    "import tensorflow as tf\n",
    "import keras"
   ]
  },
  {
   "cell_type": "code",
   "execution_count": 3,
   "metadata": {},
   "outputs": [
    {
     "name": "stderr",
     "output_type": "stream",
     "text": [
      "2022-03-28 01:40:54.272952: W tensorflow/core/platform/cloud/google_auth_provider.cc:184] All attempts to get a Google authentication bearer token failed, returning an empty token. Retrieving token from files failed with \"NOT_FOUND: Could not locate the credentials file.\". Retrieving token from GCE failed with \"FAILED_PRECONDITION: Error executing an HTTP request: libcurl code 6 meaning 'Couldn't resolve host name', error details: Could not resolve host: metadata\".\n"
     ]
    },
    {
     "name": "stdout",
     "output_type": "stream",
     "text": [
      "\u001b[1mDownloading and preparing dataset 218.21 MiB (download: 218.21 MiB, generated: 221.83 MiB, total: 440.05 MiB) to /Users/mihirneal/tensorflow_datasets/tf_flowers/3.0.1...\u001b[0m\n"
     ]
    },
    {
     "name": "stderr",
     "output_type": "stream",
     "text": [
      "Dl Completed...: 100%|██████████| 5/5 [00:52<00:00, 10.50s/ file]"
     ]
    },
    {
     "name": "stdout",
     "output_type": "stream",
     "text": [
      "\u001b[1mDataset tf_flowers downloaded and prepared to /Users/mihirneal/tensorflow_datasets/tf_flowers/3.0.1. Subsequent calls will reuse this data.\u001b[0m\n",
      "Metal device set to: Apple M1\n",
      "\n",
      "systemMemory: 8.00 GB\n",
      "maxCacheSize: 2.67 GB\n",
      "\n"
     ]
    },
    {
     "name": "stderr",
     "output_type": "stream",
     "text": [
      "\n",
      "2022-03-28 01:41:59.601255: I tensorflow/core/common_runtime/pluggable_device/pluggable_device_factory.cc:305] Could not identify NUMA node of platform GPU ID 0, defaulting to 0. Your kernel may not have been built with NUMA support.\n",
      "2022-03-28 01:41:59.602017: I tensorflow/core/common_runtime/pluggable_device/pluggable_device_factory.cc:271] Created TensorFlow device (/job:localhost/replica:0/task:0/device:GPU:0 with 0 MB memory) -> physical PluggableDevice (device: 0, name: METAL, pci bus id: <undefined>)\n"
     ]
    }
   ],
   "source": [
    "dataset, info = tfds.load(\"tf_flowers\", as_supervised = True, with_info = True)\n",
    "dataset_size = info.splits[\"train\"].num_examples\n",
    "class_names = info.features[\"label\"].names\n",
    "n_classes = info.features[\"label\"].num_classes"
   ]
  },
  {
   "cell_type": "code",
   "execution_count": 10,
   "metadata": {},
   "outputs": [],
   "source": [
    "#Testing the dataset\n",
    "test_set, valid_set, train_set = tfds.load(\"tf_flowers\", split=['train[20%:]', 'train[:15%]', 'train[:75%]'], as_supervised=True)"
   ]
  },
  {
   "cell_type": "code",
   "execution_count": 14,
   "metadata": {},
   "outputs": [],
   "source": [
    "def preprocess(image, label):\n",
    "    resized_image = tf.image.resize(image, [224, 224])\n",
    "    final_image = keras.applications.xception.preprocess_input(resized_image)\n",
    "    return final_image, label"
   ]
  },
  {
   "cell_type": "code",
   "execution_count": 16,
   "metadata": {},
   "outputs": [],
   "source": [
    "batch_size = 32\n",
    "train_set = train_set.shuffle(1000)\n",
    "train_set = train_set.map(preprocess).batch(batch_size).prefetch(1)\n",
    "valid_set = valid_set.map(preprocess).batch(batch_size).prefetch(1)\n",
    "test_set = test_set.map(preprocess).batch(batch_size).prefetch(1)"
   ]
  },
  {
   "cell_type": "code",
   "execution_count": 21,
   "metadata": {},
   "outputs": [],
   "source": [
    "#Importing the pre-trained Xception Model\n",
    "base_model = keras.applications.xception.Xception(weights=\"imagenet\", include_top = False)\n",
    "avg = keras.layers.GlobalAveragePooling2D()(base_model.output)\n",
    "output = keras.layers.Dense(n_classes, activation = \"softmax\")(avg)\n",
    "model = keras.Model(inputs=base_model.input, outputs = output)"
   ]
  },
  {
   "cell_type": "code",
   "execution_count": 22,
   "metadata": {},
   "outputs": [],
   "source": [
    "#Freezing the weights of the pre-trained layers\n",
    "for layer in base_model.layers:\n",
    "    layer.trainable = False"
   ]
  },
  {
   "cell_type": "code",
   "execution_count": 26,
   "metadata": {},
   "outputs": [
    {
     "name": "stdout",
     "output_type": "stream",
     "text": [
      "Epoch 1/10\n"
     ]
    },
    {
     "name": "stderr",
     "output_type": "stream",
     "text": [
      "2022-03-28 05:43:08.120070: I tensorflow/core/grappler/optimizers/custom_graph_optimizer_registry.cc:113] Plugin optimizer for device_type GPU is enabled.\n"
     ]
    },
    {
     "name": "stdout",
     "output_type": "stream",
     "text": [
      "86/86 [==============================] - ETA: 0s - loss: 1.6824 - Accuracy: 0.7805"
     ]
    },
    {
     "name": "stderr",
     "output_type": "stream",
     "text": [
      "2022-03-28 05:43:53.587956: I tensorflow/core/grappler/optimizers/custom_graph_optimizer_registry.cc:113] Plugin optimizer for device_type GPU is enabled.\n"
     ]
    },
    {
     "name": "stdout",
     "output_type": "stream",
     "text": [
      "86/86 [==============================] - 55s 591ms/step - loss: 1.6824 - Accuracy: 0.7805 - val_loss: 0.5083 - val_Accuracy: 0.9018\n",
      "Epoch 2/10\n",
      "86/86 [==============================] - 50s 582ms/step - loss: 0.5130 - Accuracy: 0.9052 - val_loss: 0.2481 - val_Accuracy: 0.9491\n",
      "Epoch 3/10\n",
      "86/86 [==============================] - 50s 577ms/step - loss: 0.2410 - Accuracy: 0.9422 - val_loss: 0.1891 - val_Accuracy: 0.9582\n",
      "Epoch 4/10\n",
      "86/86 [==============================] - 50s 581ms/step - loss: 0.1379 - Accuracy: 0.9662 - val_loss: 0.1128 - val_Accuracy: 0.9745\n",
      "Epoch 5/10\n",
      "86/86 [==============================] - 51s 589ms/step - loss: 0.0995 - Accuracy: 0.9727 - val_loss: 0.0864 - val_Accuracy: 0.9818\n",
      "Epoch 6/10\n",
      "86/86 [==============================] - 50s 581ms/step - loss: 0.0707 - Accuracy: 0.9840 - val_loss: 0.0726 - val_Accuracy: 0.9855\n",
      "Epoch 7/10\n",
      "86/86 [==============================] - 49s 576ms/step - loss: 0.0520 - Accuracy: 0.9873 - val_loss: 0.0522 - val_Accuracy: 0.9945\n",
      "Epoch 8/10\n",
      "86/86 [==============================] - 50s 583ms/step - loss: 0.0457 - Accuracy: 0.9916 - val_loss: 0.0484 - val_Accuracy: 0.9964\n",
      "Epoch 9/10\n",
      "86/86 [==============================] - 52s 601ms/step - loss: 0.0390 - Accuracy: 0.9935 - val_loss: 0.0423 - val_Accuracy: 0.9945\n",
      "Epoch 10/10\n",
      "86/86 [==============================] - 51s 590ms/step - loss: 0.0363 - Accuracy: 0.9945 - val_loss: 0.0388 - val_Accuracy: 0.9982\n"
     ]
    }
   ],
   "source": [
    "#Training Model\n",
    "optimizer = tf.keras.optimizers.SGD(lr=0.2, momentum=0.9, decay=0.01)\n",
    "model.compile(loss = \"sparse_categorical_crossentropy\", optimizer=optimizer, metrics=['Accuracy'])\n",
    "history = model.fit(train_set, epochs = 10, validation_data=valid_set)"
   ]
  },
  {
   "cell_type": "code",
   "execution_count": 27,
   "metadata": {},
   "outputs": [
    {
     "name": "stdout",
     "output_type": "stream",
     "text": [
      "Epoch 1/10\n"
     ]
    },
    {
     "name": "stderr",
     "output_type": "stream",
     "text": [
      "2022-03-28 05:53:10.652371: I tensorflow/core/grappler/optimizers/custom_graph_optimizer_registry.cc:113] Plugin optimizer for device_type GPU is enabled.\n"
     ]
    },
    {
     "name": "stdout",
     "output_type": "stream",
     "text": [
      "86/86 [==============================] - ETA: 0s - loss: 0.4878 - Accuracy: 0.8467"
     ]
    },
    {
     "name": "stderr",
     "output_type": "stream",
     "text": [
      "2022-03-28 05:58:03.940380: I tensorflow/core/grappler/optimizers/custom_graph_optimizer_registry.cc:113] Plugin optimizer for device_type GPU is enabled.\n"
     ]
    },
    {
     "name": "stdout",
     "output_type": "stream",
     "text": [
      "86/86 [==============================] - 304s 3s/step - loss: 0.4878 - Accuracy: 0.8467 - val_loss: 3.1642 - val_Accuracy: 0.6764\n",
      "Epoch 2/10\n",
      "86/86 [==============================] - 230s 3s/step - loss: 0.1405 - Accuracy: 0.9528 - val_loss: 0.0418 - val_Accuracy: 0.9836\n",
      "Epoch 3/10\n",
      "86/86 [==============================] - 243s 3s/step - loss: 0.0578 - Accuracy: 0.9811 - val_loss: 0.0273 - val_Accuracy: 0.9927\n",
      "Epoch 4/10\n",
      "86/86 [==============================] - 244s 3s/step - loss: 0.0327 - Accuracy: 0.9916 - val_loss: 0.0210 - val_Accuracy: 0.9945\n",
      "Epoch 5/10\n",
      "86/86 [==============================] - 235s 3s/step - loss: 0.0142 - Accuracy: 0.9956 - val_loss: 0.0095 - val_Accuracy: 0.9945\n",
      "Epoch 6/10\n",
      "86/86 [==============================] - 226s 3s/step - loss: 0.0181 - Accuracy: 0.9942 - val_loss: 0.0021 - val_Accuracy: 1.0000\n",
      "Epoch 7/10\n",
      "86/86 [==============================] - 262s 3s/step - loss: 0.0125 - Accuracy: 0.9960 - val_loss: 0.0106 - val_Accuracy: 0.9964\n",
      "Epoch 8/10\n",
      "86/86 [==============================] - 219s 3s/step - loss: 0.0112 - Accuracy: 0.9956 - val_loss: 0.0022 - val_Accuracy: 0.9982\n",
      "Epoch 9/10\n",
      "86/86 [==============================] - 274s 3s/step - loss: 0.0110 - Accuracy: 0.9953 - val_loss: 3.3926e-04 - val_Accuracy: 1.0000\n",
      "Epoch 10/10\n",
      "86/86 [==============================] - 247s 3s/step - loss: 0.0021 - Accuracy: 0.9996 - val_loss: 9.1002e-05 - val_Accuracy: 1.0000\n"
     ]
    }
   ],
   "source": [
    "#Using lower learning rate to avoid damaging pre-trained weights\n",
    "for layer in base_model.layers:\n",
    "    layer.trainable = True\n",
    "ptimizer = tf.keras.optimizers.SGD(lr=0.01, momentum=0.9, decay=0.001)\n",
    "model.compile(loss = \"sparse_categorical_crossentropy\", optimizer=optimizer, metrics=['Accuracy'])\n",
    "history = model.fit(train_set, epochs = 10, validation_data=valid_set)"
   ]
  }
 ],
 "metadata": {
  "interpreter": {
   "hash": "ee2970cf922d03402a7d10253ebd2a4c5e4f9f7a0bce76496de51d6078ea12db"
  },
  "kernelspec": {
   "display_name": "Python 3.8.11 ('tensorflow')",
   "language": "python",
   "name": "python3"
  },
  "language_info": {
   "codemirror_mode": {
    "name": "ipython",
    "version": 3
   },
   "file_extension": ".py",
   "mimetype": "text/x-python",
   "name": "python",
   "nbconvert_exporter": "python",
   "pygments_lexer": "ipython3",
   "version": "3.8.11"
  },
  "orig_nbformat": 4
 },
 "nbformat": 4,
 "nbformat_minor": 2
}
